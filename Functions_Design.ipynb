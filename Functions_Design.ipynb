{
 "cells": [
  {
   "cell_type": "code",
   "execution_count": 1,
   "id": "3f91b1bd",
   "metadata": {},
   "outputs": [
    {
     "name": "stdout",
     "output_type": "stream",
     "text": [
      "dA\n",
      " \n"
     ]
    }
   ],
   "source": [
    "I : str = \"Adta\"\n",
    "    \n",
    "def program(i):\n",
    "    print(i[-3:-5:-1])\n",
    "    return \" \" \n",
    "\n",
    "print(program(I))"
   ]
  },
  {
   "cell_type": "code",
   "execution_count": 10,
   "id": "d2797b2e",
   "metadata": {},
   "outputs": [
    {
     "name": "stdout",
     "output_type": "stream",
     "text": [
      "[[1, 2, 3], [4, 5, 6], [7, 8, 9]]\n"
     ]
    }
   ],
   "source": [
    "def matrix_arragement(x):\n",
    "    y = []\n",
    "    for i in range(0,len(x),1):\n",
    "        columns = []\n",
    "        for u in range(0,len(x[i]),1):\n",
    "            columns.append(x[i][u])\n",
    "        y.append(columns)\n",
    "    return y\n",
    "\n",
    "print(matrix_arragement([[1,2,3],[4,5,6],[7,8,9]]))\n",
    "\n",
    "## 0\n",
    "## 0 0\n",
    "## 0 1\n",
    "## 0 2\n",
    "## 1 0\n",
    "## 1 1\n",
    "## 1 2\n",
    "## 2 0 \n",
    "## 2 1\n",
    "## 2 2"
   ]
  },
  {
   "cell_type": "code",
   "execution_count": 9,
   "id": "fc8222b1",
   "metadata": {},
   "outputs": [
    {
     "name": "stdout",
     "output_type": "stream",
     "text": [
      "[[1, 4, 7], [2, 5, 8], [3, 6, 9]]\n"
     ]
    }
   ],
   "source": [
    "def matrix_arragement_transposer(x):\n",
    "    y = []\n",
    "    for i in range(0,len(x),1):\n",
    "        columns = []\n",
    "        for u in range(0,len(x[i]),1):\n",
    "            columns.append(x[u][i])\n",
    "        y.append(columns)\n",
    "    return y\n",
    "\n",
    "print(matrix_arragement([[1,2,3],[4,5,6],[7,8,9]]))\n",
    "\n",
    "## 0\n",
    "## 0 0\n",
    "## 1 0\n",
    "## 2 0\n",
    "## 0 1\n",
    "## 1 1\n",
    "## 2 1\n",
    "## 0 2 \n",
    "## 1 2\n",
    "## 2 2"
   ]
  },
  {
   "cell_type": "code",
   "execution_count": null,
   "id": "9d212f6c",
   "metadata": {},
   "outputs": [],
   "source": [
    "def is_it_magic_matrix(x):\n",
    "    r : bool = True\n",
    "    y = []\n",
    "    diagonal = []\n",
    "    inverted_diagonal []\n",
    "    for i in range(1,len(x),1):\n",
    "        columns = []\n",
    "        rows = []\n",
    "        d = []\n",
    "        inv_d = []\n",
    "        for u in range(1, len(x[i]),1):\n",
    "            rows.append(x[i][u])\n",
    "        if "
   ]
  },
  {
   "cell_type": "code",
   "execution_count": 4,
   "id": "80808789",
   "metadata": {},
   "outputs": [
    {
     "name": "stdout",
     "output_type": "stream",
     "text": [
      "6\n"
     ]
    }
   ],
   "source": []
  },
  {
   "cell_type": "code",
   "execution_count": null,
   "id": "669e81b8",
   "metadata": {},
   "outputs": [],
   "source": []
  },
  {
   "cell_type": "code",
   "execution_count": null,
   "id": "e749fa02",
   "metadata": {},
   "outputs": [],
   "source": []
  },
  {
   "cell_type": "code",
   "execution_count": null,
   "id": "8f84ce3b",
   "metadata": {},
   "outputs": [],
   "source": []
  },
  {
   "cell_type": "code",
   "execution_count": null,
   "id": "bd51fa5e",
   "metadata": {},
   "outputs": [],
   "source": []
  },
  {
   "cell_type": "code",
   "execution_count": null,
   "id": "784a57ae",
   "metadata": {},
   "outputs": [],
   "source": []
  },
  {
   "cell_type": "code",
   "execution_count": null,
   "id": "98297d07",
   "metadata": {},
   "outputs": [],
   "source": []
  }
 ],
 "metadata": {
  "kernelspec": {
   "display_name": "Python 3 (ipykernel)",
   "language": "python",
   "name": "python3"
  },
  "language_info": {
   "codemirror_mode": {
    "name": "ipython",
    "version": 3
   },
   "file_extension": ".py",
   "mimetype": "text/x-python",
   "name": "python",
   "nbconvert_exporter": "python",
   "pygments_lexer": "ipython3",
   "version": "3.9.12"
  },
  "latex_envs": {
   "LaTeX_envs_menu_present": true,
   "autoclose": false,
   "autocomplete": true,
   "bibliofile": "biblio.bib",
   "cite_by": "apalike",
   "current_citInitial": 1,
   "eqLabelWithNumbers": true,
   "eqNumInitial": 1,
   "hotkeys": {
    "equation": "Ctrl-E",
    "itemize": "Ctrl-I"
   },
   "labels_anchors": false,
   "latex_user_defs": false,
   "report_style_numbering": false,
   "user_envs_cfg": false
  }
 },
 "nbformat": 4,
 "nbformat_minor": 5
}
